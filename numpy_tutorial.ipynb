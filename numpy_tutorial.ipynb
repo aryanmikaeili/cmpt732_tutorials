{
  "nbformat": 4,
  "nbformat_minor": 0,
  "metadata": {
    "colab": {
      "name": "numpy_tutorial.ipynb",
      "provenance": [],
      "collapsed_sections": []
    },
    "kernelspec": {
      "name": "python3",
      "display_name": "Python 3"
    },
    "language_info": {
      "name": "python"
    }
  },
  "cells": [
    {
      "cell_type": "markdown",
      "metadata": {
        "id": "uUVcstUx-4cc"
      },
      "source": [
        "<a href=\"https://colab.research.google.com/github/aryanmikaeili/cmpt732_tutorials/blob/master/numpy_tutorial.ipynb\" target=\"_parent\"><img src=\"https://colab.research.google.com/assets/colab-badge.svg\" alt=\"Open In Colab\"/></a>"
      ]
    },
    {
      "cell_type": "markdown",
      "metadata": {
        "id": "1IPWbbOy28uf"
      },
      "source": [
        "# CMPT 732 - Fall 2021\n",
        "# Numpy introduction\n",
        "\n",
        "__content creator:__ Aryan Mikaeili"
      ]
    },
    {
      "cell_type": "markdown",
      "metadata": {
        "id": "y73FV38z19mc"
      },
      "source": [
        "# Introduction\n",
        "\n",
        "Numpy is a module in python for numeric computations. It allows fast calculations on vectors, matrices, and high-dimensional arrays in general. Some features:\n",
        "\n",
        "1. Provides built-in functions for calculations in linear algebra and calculus. e.g. finding eigen-values and eigen-vectors of matrices, matrix multiplications, etc.\n",
        "\n",
        "2. Much faster than python, because critical parts are written in C/C++.\n",
        "\n",
        "3. Many functions are similar to Matlab.\n",
        "4. Only supports CPUs (no GPU support)."
      ]
    },
    {
      "cell_type": "markdown",
      "metadata": {
        "id": "cw0WBdTL3O73"
      },
      "source": [
        "# Installing and importing numpy\n",
        "\n",
        "To use numpy in our you should first install the module and then import it in our code. If you don't already have numpy, you can install it with __pip__ (type __pip install numpy__ in terminal)."
      ]
    },
    {
      "cell_type": "code",
      "metadata": {
        "id": "37x6h7711r8R"
      },
      "source": [
        "#importing numpy\n",
        "\n",
        "import numpy as np"
      ],
      "execution_count": 3,
      "outputs": []
    },
    {
      "cell_type": "markdown",
      "metadata": {
        "id": "eavr5CVX4Me4"
      },
      "source": [
        "# Comparing python with and without numpy\n",
        "\n",
        "In the code below you can see that element-wise addition of two vectors, takes much less time with numpy."
      ]
    },
    {
      "cell_type": "code",
      "metadata": {
        "cellView": "form",
        "id": "P90wj7R84hBs"
      },
      "source": [
        "#@title run this cell to import needed modules and define the array generator function.\n",
        "import time\n",
        "import random\n",
        " \n",
        "\n",
        "#this function generates two random arrays with length 'size'\n",
        "def generate_random_arrays(size = 100):\n",
        "  a = [random.random() for _ in range(size)]\n",
        "  b = [random.random() for _ in range(size)]\n",
        "  return a, b"
      ],
      "execution_count": 4,
      "outputs": []
    },
    {
      "cell_type": "code",
      "metadata": {
        "colab": {
          "base_uri": "https://localhost:8080/"
        },
        "id": "kRnytFB_43Zf",
        "outputId": "4172b30e-aef1-4899-840f-8692dd5df0da"
      },
      "source": [
        "\n",
        "\n",
        "size = 10\n",
        "a, b = generate_random_arrays(size=size)\n",
        "\n",
        "###################################################\n",
        "#adding without using numpy\n",
        "t = time.time_ns() #current time\n",
        "result = [] #the array that will contain the result\n",
        "\n",
        "#computing the element-wise addition\n",
        "for i in range(size): \n",
        "  result.append(a[i] + b[i])\n",
        "\n",
        "running_time_n = time.time_ns() - t\n",
        "\n",
        "print('without using numpy the run time is:',running_time_n // 1000, 'micro seconds')\n",
        "\n",
        "####################################################\n",
        "#adding with numpy\n",
        "t = time.time_ns()\n",
        "result = np.add(a, b)\n",
        "running_time_y = time.time_ns() - t\n",
        "print('with using numpy the run time is:',running_time_y // 1000, 'micro seconds')\n",
        "####################################################\n",
        "\n",
        "print('ratio:', round(running_time_n / running_time_y, 2))\n"
      ],
      "execution_count": 34,
      "outputs": [
        {
          "output_type": "stream",
          "name": "stdout",
          "text": [
            "without using numpy the run time is: 138 micro seconds\n",
            "with using numpy the run time is: 78 micro seconds\n",
            "ratio: 1.78\n"
          ]
        }
      ]
    }
  ]
}