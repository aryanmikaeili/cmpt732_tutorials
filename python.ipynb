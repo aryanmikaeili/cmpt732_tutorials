{
  "nbformat": 4,
  "nbformat_minor": 0,
  "metadata": {
    "colab": {
      "name": "pythont.ipynb",
      "provenance": [],
      "collapsed_sections": [],
      "toc_visible": true
    },
    "kernelspec": {
      "name": "python3",
      "display_name": "Python 3"
    },
    "language_info": {
      "name": "python"
    }
  },
  "cells": [
    {
      "cell_type": "markdown",
      "metadata": {
        "id": "UiSef_byMrff"
      },
      "source": [
        "<a href=\"https://colab.research.google.com/github/aryanmikaeili/cmpt732_material/blob/master/python.ipynb\" target=\"_parent\"><img src=\"https://colab.research.google.com/assets/colab-badge.svg\" alt=\"Open In Colab\"/></a>"
      ]
    },
    {
      "cell_type": "markdown",
      "metadata": {
        "id": "XKTm4A8M7w4a"
      },
      "source": [
        "# CMPT 732 - Fall 2021\n",
        "# Python Introduction\n",
        "\n",
        "__content creator:__ Aryan Mikaeili"
      ]
    },
    {
      "cell_type": "markdown",
      "metadata": {
        "id": "upBHCy5RLQk2"
      },
      "source": [
        "<div id=section0></div>\n",
        "\n",
        "# Basics:types arithmetics, input and output"
      ]
    },
    {
      "cell_type": "code",
      "metadata": {
        "id": "kbnyc_ATaufJ",
        "cellView": "form"
      },
      "source": [
        "#@title Types and Output\n",
        "a = 2\n",
        "b = True\n",
        "c = 'Hello'\n",
        "\n",
        "#output: printing\n",
        "\n",
        "print('value of a: ', a)\n",
        "print('type of a: ', type(a))\n",
        "\n",
        "print('value of b: ', b)\n",
        "print('type of b: ',type(b))\n",
        "\n",
        "print('value of c: ', c)\n",
        "print('type of c: ',type(c))\n",
        "\n"
      ],
      "execution_count": null,
      "outputs": []
    },
    {
      "cell_type": "code",
      "metadata": {
        "id": "fbBy_AgUdCIJ",
        "cellView": "form"
      },
      "source": [
        "#@title simple arithmetics\n",
        "#simple arithmetics\n",
        "a = 20\n",
        "b = 7\n",
        "\n",
        "#summation\n",
        "c = a + b\n",
        "print('sum: ', c)\n",
        "#subtraction\n",
        "c = a - b\n",
        "print('sub: ', c)\n",
        "#multiplication\n",
        "c = a * b\n",
        "print('mult: ', c)\n",
        "#divison\n",
        "c = 20 / 7\n",
        "print('div: ', c)\n",
        "#remainder\n",
        "c = 20 % 7\n",
        "print('rem: ', c)"
      ],
      "execution_count": null,
      "outputs": []
    },
    {
      "cell_type": "code",
      "metadata": {
        "cellView": "form",
        "id": "j2CSirgGJwwl"
      },
      "source": [
        "#@title logical operations\n",
        "\n",
        "print(2 == 2)\n",
        "print(2 > 4)\n",
        "print(not 2 > 4)"
      ],
      "execution_count": null,
      "outputs": []
    },
    {
      "cell_type": "code",
      "metadata": {
        "id": "xsJUbMbJb59M",
        "cellView": "form"
      },
      "source": [
        "#@title getting user input\n",
        "#getting user input\n",
        "inp = int(input('Please insert an integer'))\n",
        "print('the user input is ', inp)\n"
      ],
      "execution_count": null,
      "outputs": []
    },
    {
      "cell_type": "code",
      "metadata": {
        "cellView": "form",
        "id": "pcXADTiSD3YA"
      },
      "source": [
        "#@title converting types\n",
        "a = '2'\n",
        "print('value of a:', a, ', type of a:', type(a))\n",
        "a_int = int(a)\n",
        "print('value of a_int:', a_int, ', type of a_int:', type(a_int))\n",
        "a_float = float(a)\n",
        "print('value of a_float:', a_float, ', type of a_float:', type(a_float))"
      ],
      "execution_count": null,
      "outputs": []
    },
    {
      "cell_type": "markdown",
      "metadata": {
        "id": "q5O7DpNvfr4y"
      },
      "source": [
        "<div id='section_1'></div>\n",
        "\n",
        "# Lists\n",
        "\n",
        "Lists in python are an ordered, mutable set of objects."
      ]
    },
    {
      "cell_type": "code",
      "metadata": {
        "id": "fyY1D2z0pexM"
      },
      "source": [
        ""
      ],
      "execution_count": null,
      "outputs": []
    },
    {
      "cell_type": "code",
      "metadata": {
        "cellView": "form",
        "id": "GyKqhCiYh7eZ"
      },
      "source": [
        "#@title initializing and printing lists\n",
        "#lists can store different types of variables\n",
        "\n",
        "l1 = []\n",
        "l2 = [1, 2, 3, 4, 5]\n",
        "l3 = ['Ian', 'Anish', 'Magnus', 'Hikaru']\n",
        "l4 = [1, True, 'John', 2.5]\n",
        "\n",
        "#don't need to loop over the list to print\n",
        "print(l1)\n",
        "print(l2)\n",
        "print(l3)\n",
        "print(l4)\n",
        "\n",
        "print('----------------------')\n",
        "\n",
        "print(*l4)"
      ],
      "execution_count": null,
      "outputs": []
    },
    {
      "cell_type": "code",
      "metadata": {
        "cellView": "form",
        "id": "LZi8ix0aifWO"
      },
      "source": [
        "#@title indexing items of a list\n",
        "\n",
        "\n",
        "l = [1, 2, 3, 4, 5, 6, 7, 8, 9, 10]\n",
        "\n",
        "print(l[3])\n",
        "print(l[2:6])\n",
        "print(l[:4])\n",
        "print(l[7:])\n",
        "print(l[1:7:2])\n",
        "print(l[7:1:-2])\n",
        "print(l[::-1])\n",
        "\n"
      ],
      "execution_count": null,
      "outputs": []
    },
    {
      "cell_type": "code",
      "metadata": {
        "cellView": "form",
        "id": "jy8d3Xn8obRI"
      },
      "source": [
        "#@title length of a list\n",
        "\n",
        "l = [1, 2, 3, 4, 5, 6, 7, 8, 9, 10]\n",
        "print(len(l))"
      ],
      "execution_count": null,
      "outputs": []
    },
    {
      "cell_type": "code",
      "metadata": {
        "cellView": "form",
        "id": "CjPzljTamj3S"
      },
      "source": [
        "#@title Updating lists\n",
        "\n",
        "#values in a list can be changed\n",
        "l = [1, 2, 3, 4, 5]\n",
        "l[2] = 30\n",
        "print('l after updating: ', l)"
      ],
      "execution_count": null,
      "outputs": []
    },
    {
      "cell_type": "code",
      "metadata": {
        "cellView": "form",
        "id": "G4JdR1RIjuHf"
      },
      "source": [
        "#@title Deleting from lists\n",
        "\n",
        "#deleting an item from the list by index\n",
        "l = [1, 2, 3, 30, 5]\n",
        "l.pop(1)\n",
        "print('l after deleting the second item: ', l2)\n",
        "\n",
        "#can also use the following:\n",
        "  #del(l[1])\n",
        "\n",
        "#deleting an item from the list by the item itself\n",
        "\n",
        "l.remove(30)\n",
        "print('l after deleting 30: ', l2)"
      ],
      "execution_count": null,
      "outputs": []
    },
    {
      "cell_type": "code",
      "metadata": {
        "cellView": "form",
        "id": "R1HnTyYIjweC"
      },
      "source": [
        "#@title Inserting to a list\n",
        "#adding items to the and of a list\n",
        "l3.append('Maxime')\n",
        "print('l3 after adding an item: ', l3)\n",
        "\n",
        "#adding items to a specific position in the list\n",
        "l3 = ['Ian', 'Anish', 'Magnus', 'Hikaru']\n",
        "l3.insert(1, 'Maxime')\n",
        "print('l3 after adding an item to a specific position: ', l3)"
      ],
      "execution_count": null,
      "outputs": []
    },
    {
      "cell_type": "markdown",
      "metadata": {
        "id": "hWubTaSslrGG"
      },
      "source": [
        "lists are a built-in classes in python with a lot more functions and useful methods for searching, counting, etc. No one can memorize all these functions so before implementing stuff in python just do a quick search first"
      ]
    },
    {
      "cell_type": "code",
      "metadata": {
        "cellView": "form",
        "id": "j-iKV5BHoIZN"
      },
      "source": [
        "#@title multi-dimensional lists\n",
        "\n",
        "\n",
        "l = [[1, 2, 3], [4, 5, 6], [7, 8, 9, 10]]\n",
        "print(l)"
      ],
      "execution_count": null,
      "outputs": []
    },
    {
      "cell_type": "markdown",
      "metadata": {
        "id": "zeGc1STpuQS6"
      },
      "source": [
        "# Strings\n",
        "\n",
        "Strings in python are also a built-in class type, with lots of useful functions like find, split, etc."
      ]
    },
    {
      "cell_type": "code",
      "metadata": {
        "id": "z2gW4oHoxg5U"
      },
      "source": [
        ""
      ],
      "execution_count": null,
      "outputs": []
    },
    {
      "cell_type": "code",
      "metadata": {
        "cellView": "form",
        "id": "id3MAqfPu9J5"
      },
      "source": [
        "#@title Defining and printing strings\n",
        "#defining a string\n",
        "\n",
        "name = 'Pencil'\n",
        "\n",
        "#print the string\n",
        "print(name)\n",
        "#print the character in the specified position\n",
        "print(name[2])\n",
        "#print a part of the string\n",
        "print(name[1:4])\n",
        "print(name[:3])\n",
        "print(name[3:])\n",
        "print(name[1:4:2])\n",
        "\n",
        "\n"
      ],
      "execution_count": null,
      "outputs": []
    },
    {
      "cell_type": "code",
      "metadata": {
        "cellView": "form",
        "id": "6sfwUtJXv8wM"
      },
      "source": [
        "#@title basic operations\n",
        "\n",
        "#repeating a string\n",
        "print(name*3)\n",
        "#adding a another string to the current string\n",
        "print(name + 'Book')\n",
        "#printing a string with another string\n",
        "print('a blue', name, '\\na red book ')\n",
        "#length of a string\n",
        "print(len(name))"
      ],
      "execution_count": null,
      "outputs": []
    },
    {
      "cell_type": "code",
      "metadata": {
        "cellView": "form",
        "id": "xAaqb4AexY-4"
      },
      "source": [
        "#@title Some useful built-in functions\n",
        "\n",
        "sentence = \"a Blue pencil and Two red Books\"\n",
        "\n",
        "#spliting a string\n",
        "print(sentence.split(' '))\n",
        "#making a string uppercase\n",
        "print(sentence.upper())\n",
        "#making a string lowercase\n",
        "print(sentence.lower())\n",
        "#searching a phrase in the sentence (returns only the first occurance)\n",
        "print(sentence.find('pencil'))"
      ],
      "execution_count": null,
      "outputs": []
    },
    {
      "cell_type": "markdown",
      "metadata": {
        "id": "ccaNsrX22xSh"
      },
      "source": [
        "# Dictionaries\n",
        "\n",
        "dictionaries are used for data that are stored in key-value pairs."
      ]
    },
    {
      "cell_type": "code",
      "metadata": {
        "id": "caO7iMg9_yJz"
      },
      "source": [
        ""
      ],
      "execution_count": null,
      "outputs": []
    },
    {
      "cell_type": "code",
      "metadata": {
        "cellView": "form",
        "id": "z5-ZyGEJ3zGO"
      },
      "source": [
        "#@title Defining and printing\n",
        "\n",
        "#an empty dictionary\n",
        "\n",
        "d = {} #use curly braces to define dictionaries\n",
        "print(d)\n",
        "\n",
        "#defining a dictionary\n",
        "\n",
        "user = {'username': 'john_doe',\n",
        "        'password': 1234\n",
        "}\n",
        "\n",
        "#printing the dictionary\n",
        "print(user)\n",
        "#printing the value of a specified key\n",
        "print(user['username'])\n",
        "#printing the keys\n",
        "print(user.keys())\n",
        "#printing the values\n",
        "print(user.values())\n",
        "\n"
      ],
      "execution_count": null,
      "outputs": []
    },
    {
      "cell_type": "code",
      "metadata": {
        "cellView": "form",
        "id": "InfLDD836bpD"
      },
      "source": [
        "#@title Updating, inserting, and deleting\n",
        "\n",
        "\n",
        "user = {'username': 'john_doe',\n",
        "        'password': 1234\n",
        "}\n",
        "\n",
        "#inserting a new key-value pair\n",
        "user['age'] = 23\n",
        "print('the dictionary after inserting a new key-value pair: ')\n",
        "print(user)\n",
        "\n",
        "print('\\n')\n",
        "\n",
        "#updating the value of a specific key\n",
        "user['username'] ='jdoe'\n",
        "print('the dictionary after udpating the username: ')\n",
        "print(user)\n",
        "\n",
        "print('\\n')\n",
        "\n",
        "#deleting a key-value pair\n",
        "del(user['password'])\n",
        "print('the dictionary after deleting the password field: ')\n",
        "print(user)"
      ],
      "execution_count": null,
      "outputs": []
    },
    {
      "cell_type": "markdown",
      "metadata": {
        "id": "k2RfjQK18pw2"
      },
      "source": [
        "# Conditions (if-elif-else)"
      ]
    },
    {
      "cell_type": "code",
      "metadata": {
        "cellView": "form",
        "id": "pZxxq63-9Pjz"
      },
      "source": [
        "#@title example 1\n",
        "\n",
        "var = 100\n",
        "\n",
        "if var == 100:\n",
        "  print('value of var is 100')\n",
        "elif var == 200:\n",
        "  print('value of var is 200')\n",
        "else:\n",
        "  print('value of var is neither 100 nor 200')"
      ],
      "execution_count": null,
      "outputs": []
    },
    {
      "cell_type": "markdown",
      "metadata": {
        "id": "Ek88Ai-Y-ejf"
      },
      "source": [
        "# Loops (for-while)"
      ]
    },
    {
      "cell_type": "code",
      "metadata": {
        "id": "KElJgVDkCRT_"
      },
      "source": [
        ""
      ],
      "execution_count": null,
      "outputs": []
    },
    {
      "cell_type": "code",
      "metadata": {
        "cellView": "form",
        "id": "El3f2Tjh-tIO"
      },
      "source": [
        "#@title for loop: example 1\n",
        "#in the for loop below range starts from 0 and goes to 9\n",
        "for i in range(10):\n",
        "  print(i)"
      ],
      "execution_count": null,
      "outputs": []
    },
    {
      "cell_type": "code",
      "metadata": {
        "cellView": "form",
        "id": "nUidaga6-0-d"
      },
      "source": [
        "#@title for loop: example 2\n",
        "#in the for loop below range starts from 2 and goes to 9\n",
        "for i in range(2, 10):\n",
        "  print(i)"
      ],
      "execution_count": null,
      "outputs": []
    },
    {
      "cell_type": "code",
      "metadata": {
        "cellView": "form",
        "id": "aQPAq7Rk_Bhu"
      },
      "source": [
        "#@title for loop: example 3\n",
        "#in the for loop below range starts from 0 to 9, but jumps two steps\n",
        "for i in range(0, 10, 2):\n",
        "  print(i)"
      ],
      "execution_count": null,
      "outputs": []
    },
    {
      "cell_type": "code",
      "metadata": {
        "cellView": "form",
        "id": "90Qf6qoU_UyQ"
      },
      "source": [
        "#@title for loop: example 4\n",
        "#in the for loop below the range is reveresed from 10 to 1\n",
        "for i in range(10, 1, -1):\n",
        "  print(i)"
      ],
      "execution_count": null,
      "outputs": []
    },
    {
      "cell_type": "code",
      "metadata": {
        "cellView": "form",
        "id": "wM7yM2iIASLW"
      },
      "source": [
        "#@title for loop: example 5\n",
        "#defining a list using for\n",
        "lst = [i for i in range(10)]\n",
        "print(lst)"
      ],
      "execution_count": null,
      "outputs": []
    },
    {
      "cell_type": "code",
      "metadata": {
        "cellView": "form",
        "id": "nmvwr6l-AjO3"
      },
      "source": [
        "#@title for loop: example 6\n",
        "#you can iterate over objects too\n",
        "lst = ['one', 'two', 'three', 'four', 'five']\n",
        "for number in lst:\n",
        "  print(number)\n",
        "\n",
        "[print('------------------------\\n')]\n",
        "#enumerate gives you both the indexes and the objects\n",
        "for i, number in enumerate(lst):\n",
        "  print(i, number)"
      ],
      "execution_count": null,
      "outputs": []
    },
    {
      "cell_type": "code",
      "metadata": {
        "cellView": "form",
        "id": "gWxxmYm2_rtw"
      },
      "source": [
        "#@title while loop\n",
        "var = 5\n",
        "i = 0\n",
        "while i < var:\n",
        "  print(i)\n",
        "  i += 1"
      ],
      "execution_count": null,
      "outputs": []
    },
    {
      "cell_type": "markdown",
      "metadata": {
        "id": "FyMGK-HY_wj_"
      },
      "source": [
        "# Practice 1\n",
        "\n",
        "Get a list of integers from user and print their sum."
      ]
    },
    {
      "cell_type": "code",
      "metadata": {
        "id": "s4QUUiZdCuO-"
      },
      "source": [
        "#get the user input\n",
        "...\n",
        "\n",
        "#convert the user input to a list of integers\n",
        "...\n",
        "\n",
        "#compute the sum and print the result\n",
        "..."
      ],
      "execution_count": null,
      "outputs": []
    },
    {
      "cell_type": "code",
      "metadata": {
        "cellView": "form",
        "id": "LxtiaOlyDHi-"
      },
      "source": [
        "#@title Solution\n",
        "\n",
        "#get the user input\n",
        "inp = input('please enter list of integers:')\n",
        "\n",
        "#convert the user input to a list of integers\n",
        "inp_int = [int(i) for i in inp.split()]\n",
        "\n",
        "#compute the sum and print the result\n",
        "sum = 0\n",
        "for i in inp_int:\n",
        "  sum += i\n",
        "print(sum)"
      ],
      "execution_count": null,
      "outputs": []
    },
    {
      "cell_type": "markdown",
      "metadata": {
        "id": "wmeIeH1fnOh4"
      },
      "source": [
        "# Functions\n"
      ]
    },
    {
      "cell_type": "code",
      "metadata": {
        "id": "kOtC-WTtCqVR"
      },
      "source": [
        ""
      ],
      "execution_count": null,
      "outputs": []
    },
    {
      "cell_type": "code",
      "metadata": {
        "cellView": "form",
        "id": "9C0RT1lp_26T"
      },
      "source": [
        "#@title add function\n",
        "\n",
        "#a simple add function that gets two numbers and outputs their sum\n",
        "def add_func(a, b):\n",
        "  return a + b\n",
        "\n",
        "print(add_func(3, 5))"
      ],
      "execution_count": null,
      "outputs": []
    },
    {
      "cell_type": "code",
      "metadata": {
        "cellView": "form",
        "id": "EZBwQ6PvBBbr"
      },
      "source": [
        "#@title function with unknown number of arguments\n",
        "\n",
        "def func(*args):\n",
        "  for i, a in enumerate(args):\n",
        "    print(i, a)\n",
        "\n",
        "func('Hi', 2, [3,4,1])"
      ],
      "execution_count": null,
      "outputs": []
    },
    {
      "cell_type": "code",
      "metadata": {
        "cellView": "form",
        "id": "7ZyArSCpBcrT"
      },
      "source": [
        "#@title function with default values\n",
        "\n",
        "def add_sub(a, b, add_flag = True):\n",
        "  if add_flag:\n",
        "    return a + b\n",
        "  return a - b\n",
        "\n",
        "print('calling with add_flag set to True:', add_sub(5,6))\n",
        "print('calling with add_flag set to False:', add_sub(5,6, False))"
      ],
      "execution_count": null,
      "outputs": []
    },
    {
      "cell_type": "code",
      "metadata": {
        "cellView": "form",
        "id": "wimmOqeGB2pm"
      },
      "source": [
        "#@title increasing readability of functions\n",
        "def add_sub(a:int, b:int, add_flag = True):\n",
        "  if add_flag:\n",
        "    return a + b\n",
        "  return a - b\n",
        "\n",
        "print(add_sub(3,4, add_flag=False))"
      ],
      "execution_count": null,
      "outputs": []
    },
    {
      "cell_type": "code",
      "metadata": {
        "cellView": "form",
        "id": "uBTACx4zCPVj"
      },
      "source": [
        "#@title recursive functions\n",
        "def factorial(n):\n",
        "  if n == 0:\n",
        "    return 1\n",
        "  return n * factorial(n - 1)\n",
        "\n",
        "print(factorial(5))"
      ],
      "execution_count": null,
      "outputs": []
    },
    {
      "cell_type": "markdown",
      "metadata": {
        "id": "x8B82vI8C26N"
      },
      "source": [
        "# Practice 2\n",
        "\n",
        "Write a function that computes the number of ways one can choose r objects from n objects (i.e. $n \\choose r$).\n",
        "\n",
        "reminder:\n",
        "$${n \\choose r} = {n - 1 \\choose r - 1} + {n - 1 \\choose r}$$"
      ]
    },
    {
      "cell_type": "code",
      "metadata": {
        "id": "u7b4rADmEh63"
      },
      "source": [
        "def choose(n, r):\n",
        "  #write your code here\n",
        "  ..."
      ],
      "execution_count": null,
      "outputs": []
    },
    {
      "cell_type": "code",
      "metadata": {
        "cellView": "form",
        "id": "V740iHPPEowD"
      },
      "source": [
        "#@title Solution\n",
        "\n",
        "def choose(n, r):\n",
        "  if n == 1 or r == 0 or n == r:\n",
        "    return 1\n",
        "  return choose(n - 1, r - 1) + choose(n - 1, r)\n",
        "\n",
        "print(choose(6, 3))"
      ],
      "execution_count": null,
      "outputs": []
    },
    {
      "cell_type": "markdown",
      "metadata": {
        "id": "MVm3vficFIVx"
      },
      "source": [
        "# Practice 3 (extra)\n",
        "\n",
        "You are given a list of unsorted integers. First sort the list. Secondly implement the binary search algorithm in a function. Finally get a single integer from user and use your implementation to find that integer in the list."
      ]
    },
    {
      "cell_type": "code",
      "metadata": {
        "cellView": "form",
        "id": "o3odg6A3Gnw9"
      },
      "source": [
        "#@title please run this cell to generate list. the list name is lst.\n",
        "import random\n",
        "lst = [random.randint(1, 100) for _ in range(100)]\n",
        "print(lst)"
      ],
      "execution_count": null,
      "outputs": []
    },
    {
      "cell_type": "code",
      "metadata": {
        "id": "oDmA0CKhLdyz"
      },
      "source": [
        "def binary_search(lst, query):\n",
        "  #sort the list\n",
        "  ...\n",
        "  #the start and index of the current list\n",
        "  st = 0\n",
        "  en = len(lst)\n",
        "  #the loop to find the query\n",
        "  ...\n",
        "\n",
        "\n",
        "inp = int(input('input integer: '))\n",
        "print(binary_search(lst, query=inp))\n"
      ],
      "execution_count": null,
      "outputs": []
    },
    {
      "cell_type": "code",
      "metadata": {
        "cellView": "form",
        "id": "1CN3pKTlGYzd"
      },
      "source": [
        "#@title Solution\n",
        "def binary_search(lst, query):\n",
        "  lst = sorted(lst)\n",
        "  st = 0\n",
        "  en = len(lst)\n",
        "  while en > st:\n",
        "      middle = (st + en) // 2\n",
        "      if lst[middle] == query:\n",
        "        return middle\n",
        "      elif lst[middle] >query:\n",
        "        en = middle - 1\n",
        "      else:\n",
        "        st = middle + 1\n",
        "\n",
        "  return -1\n",
        "\n",
        "inp = int(input('input integer: '))\n",
        "print(binary_search(lst, query=inp))"
      ],
      "execution_count": null,
      "outputs": []
    },
    {
      "cell_type": "markdown",
      "metadata": {
        "id": "ip2SHPTznmiZ"
      },
      "source": [
        "# Files\n",
        "In python you can access files by defining a file object (pre-defined). you can do so with the following line:\n",
        "\n",
        "fp = open('filename', 'access mode')\n",
        "\n",
        "filename: the name of the file you want to read/edit - gives you an error if the file doesn't exist\n",
        "\n",
        "access mode: the access mode which you want to open the file in. basic modes are:\n",
        "\n",
        "1. r: read-only mode\n",
        "2. a: append to a file\n",
        "3. w: write to a file. If file doesn't exist, creates file\n",
        "4. r+, w+: read and write permission\n",
        "5. a+: read and append permission\n"
      ]
    },
    {
      "cell_type": "code",
      "metadata": {
        "id": "f9MQxAep_0M3"
      },
      "source": [
        ""
      ],
      "execution_count": null,
      "outputs": []
    },
    {
      "cell_type": "code",
      "metadata": {
        "cellView": "form",
        "id": "ZsGPw_2Bnn6u"
      },
      "source": [
        "#@title Defining a file object and reading\n",
        "\n",
        "fp = open('demo.txt', 'r')\n",
        "\n",
        "#reading the file\n",
        "text = fp.read()\n",
        "print('printing the whole text:')\n",
        "print(text)\n",
        "fp.close()\n",
        "\n",
        "print('\\n')\n",
        "\n",
        "#reading a single line from the file\n",
        "fp = open('demo.txt', 'r')\n",
        "text = fp.readline()\n",
        "print('printing one line:')\n",
        "print(text)\n",
        "fp.close()\n",
        "\n",
        "print('\\n')\n",
        "\n",
        "#reading all the file line by line\n",
        "fp = open('demo.txt', 'r')\n",
        "text = fp.readlines()\n",
        "print('printing lines:')\n",
        "print(text)\n",
        "fp.close()"
      ],
      "execution_count": null,
      "outputs": []
    },
    {
      "cell_type": "code",
      "metadata": {
        "cellView": "form",
        "id": "Z8blW4aQxGev"
      },
      "source": [
        "#@title appending to files\n",
        "fp = open('demo.txt', 'a')\n",
        "fp.write('this is a new line')\n",
        "fp.close()\n",
        "\n",
        "fp = open('demo.txt', 'r')\n",
        "text = fp.read()\n",
        "print(text)"
      ],
      "execution_count": null,
      "outputs": []
    },
    {
      "cell_type": "code",
      "metadata": {
        "cellView": "form",
        "id": "bJTZjoqdx_x3"
      },
      "source": [
        "#@title writing to files\n",
        "fp = open('demo.txt', 'w')\n",
        "fp.write('This is a new line')\n",
        "fp.close()\n",
        "\n",
        "fp = open('demo.txt', 'r')\n",
        "text = fp.read()\n",
        "print(text)\n",
        "fp.close()"
      ],
      "execution_count": null,
      "outputs": []
    },
    {
      "cell_type": "code",
      "metadata": {
        "cellView": "form",
        "id": "rMjpoMMksCWr"
      },
      "source": [
        "#@title The with expression\n",
        "\n",
        "#not using with\n",
        "fp = open('bad.txt', 'w')\n",
        "fp.write('Not using with!')\n",
        "\n",
        "fp2 = open('bad.txt', 'r')\n",
        "text = fp2.read()\n",
        "print('not using with: ')\n",
        "print(text)\n",
        "\n",
        "\n",
        "#using with\n",
        "with open('good.txt','w') as fp:\n",
        "  fp.write('Using with!')\n",
        "\n",
        "fp2 = open('good.txt', 'r')\n",
        "text = fp2.read()\n",
        "print('using with: ')\n",
        "print(text)\n",
        "fp2.close()"
      ],
      "execution_count": null,
      "outputs": []
    },
    {
      "cell_type": "markdown",
      "metadata": {
        "id": "Hxtb42Zb25cj"
      },
      "source": [
        "# Practice 4\n",
        "First run the cell below to download the csv file, 'oscar_winners.csv'. If you are using Colab, you can check the downloaded file by refreshing the files window on the left.\n",
        "Now that you have the file, search how you can read a csv file, read the csv file, and print it's rows. Then find the name of all the actresses that won an oscar in their 30s."
      ]
    },
    {
      "cell_type": "code",
      "metadata": {
        "cellView": "form",
        "id": "i1XOboclyy-M"
      },
      "source": [
        "#@title Please run this cell to download the csv file\n",
        "\n",
        "import pandas as pd\n",
        "\n",
        "data = pd.read_csv('https://people.sc.fsu.edu/~jburkardt/data/csv/oscar_age_female.csv', index_col=False)\n",
        "data.to_csv('oscar_winners.csv', index=False, sep=',')"
      ],
      "execution_count": null,
      "outputs": []
    },
    {
      "cell_type": "code",
      "metadata": {
        "id": "Q2CBis6v9Vok"
      },
      "source": [
        "#write your code here\n",
        "..."
      ],
      "execution_count": null,
      "outputs": []
    },
    {
      "cell_type": "code",
      "metadata": {
        "cellView": "form",
        "id": "UkPU6dao47sc"
      },
      "source": [
        "#@title Solution\n",
        "\n",
        "import csv\n",
        "\n",
        "actress_names = []\n",
        "with open('oscar_winners.csv', newline='') as f:\n",
        "  reader = csv.reader(f, delimiter=',')\n",
        "  for i, row in enumerate(reader):\n",
        "    print(row)\n",
        "    if i > 0 and int(row[2]) >= 30 and int(row[2]) < 40:\n",
        "      actress_names.append(row[3])\n",
        "      \n",
        "\n",
        "print('-------------------------\\n')\n",
        "print('actresses in their 30s:')\n",
        "for name in actress_names:\n",
        "  print(name)\n"
      ],
      "execution_count": null,
      "outputs": []
    },
    {
      "cell_type": "markdown",
      "metadata": {
        "id": "fznaa0bBF5yi"
      },
      "source": [
        "# Classes and object\n",
        "\n",
        "As mentioned in the slides, python supports the object-oriented paradigm. Classes and objects are an important part of python programming. As a reminder classes are a data structure that store a set of attributes, and also a set of functions. For example human could be a class that has the attributes name, age, etc, and functions walking, talking, etc. objects are instances of a class for example Aryan could be an instance of the human class."
      ]
    },
    {
      "cell_type": "code",
      "metadata": {
        "cellView": "form",
        "id": "X9eYHTTcGlKg"
      },
      "source": [
        "#@title example of a class\n",
        "\n",
        "class Human:\n",
        "  def __init__(self,name, age):\n",
        "    self.name = name\n",
        "    self.age = age\n",
        "    self.__id = 21325\n",
        "\n",
        "  def talk(self, sentence):\n",
        "    print(self.name, \":\", sentence)\n",
        "  def birthday(self):\n",
        "    self.age += 1\n",
        "  def get_id(self):\n",
        "    return self.__id\n",
        "\n",
        "\n",
        "h = Human('John', 32)\n",
        "h.talk('Hello!')\n",
        "\n",
        "h.birthday()\n",
        "print(h.age)\n",
        "print(h.get_id())"
      ],
      "execution_count": null,
      "outputs": []
    }
  ]
}